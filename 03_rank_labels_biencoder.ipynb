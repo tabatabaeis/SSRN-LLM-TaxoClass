{
 "cells": [
  {
   "cell_type": "markdown",
   "metadata": {
    "application/vnd.databricks.v1+cell": {
     "cellMetadata": {
      "byteLimit": 2048000,
      "rowLimit": 10000
     },
     "inputWidgets": {},
     "nuid": "19bab31a-65a7-4394-8e4a-bf6449348505",
     "showTitle": false,
     "tableResultSettingsMap": {},
     "title": ""
    }
   },
   "source": [
    " This notebook reads the DataFrame and taxonomy, then ranks taxonomy labels based on their similarity to each document in the DataFrame. It adds these ranked labels as a new column in the DataFrame."
   ]
  },
  {
   "cell_type": "code",
   "execution_count": 0,
   "metadata": {
    "application/vnd.databricks.v1+cell": {
     "cellMetadata": {
      "byteLimit": 2048000,
      "rowLimit": 10000
     },
     "inputWidgets": {},
     "nuid": "568544ee-a140-4b22-9809-b785f4088c3f",
     "showTitle": false,
     "tableResultSettingsMap": {},
     "title": ""
    }
   },
   "outputs": [],
   "source": [
    "%run ./config"
   ]
  },
  {
   "cell_type": "code",
   "execution_count": 0,
   "metadata": {
    "application/vnd.databricks.v1+cell": {
     "cellMetadata": {
      "byteLimit": 2048000,
      "rowLimit": 10000
     },
     "inputWidgets": {},
     "nuid": "5c6dba82-b260-4f83-b980-7d8004040975",
     "showTitle": false,
     "tableResultSettingsMap": {},
     "title": ""
    }
   },
   "outputs": [],
   "source": [
    "import pandas as pd\n",
    "import numpy as np\n",
    "import pickle\n",
    "import re\n",
    "import torch\n",
    "from sentence_transformers import SentenceTransformer, util\n",
    "import pickle"
   ]
  },
  {
   "cell_type": "code",
   "execution_count": 0,
   "metadata": {
    "application/vnd.databricks.v1+cell": {
     "cellMetadata": {
      "byteLimit": 2048000,
      "rowLimit": 10000
     },
     "inputWidgets": {},
     "nuid": "77220f5b-1bf7-4aef-ab1d-a3c14dd606ef",
     "showTitle": false,
     "tableResultSettingsMap": {},
     "title": ""
    }
   },
   "outputs": [],
   "source": [
    "conf = DataBricksDevConfig\n",
    "path_results = conf.Data.path_results\n",
    "path_taxonomy = conf.Data.path_taxonomy\n",
    "folder_name = conf.Data.folder_name\n",
    "dic_abbreviation2full = conf.taxonomy_info.dic_abbreviation2full"
   ]
  },
  {
   "cell_type": "code",
   "execution_count": 0,
   "metadata": {
    "application/vnd.databricks.v1+cell": {
     "cellMetadata": {
      "byteLimit": 2048000,
      "rowLimit": 10000
     },
     "inputWidgets": {},
     "nuid": "2b5ca785-9782-452f-8e40-d5e2a7e26c36",
     "showTitle": false,
     "tableResultSettingsMap": {},
     "title": ""
    }
   },
   "outputs": [],
   "source": [
    "\n",
    "with open(path_taxonomy + 'dic_taxonomy_embeddings.pickle', 'rb') as file:\n",
    "    dic_taxonomy = pickle.load(file)"
   ]
  },
  {
   "cell_type": "markdown",
   "metadata": {
    "application/vnd.databricks.v1+cell": {
     "cellMetadata": {
      "byteLimit": 2048000,
      "rowLimit": 10000
     },
     "inputWidgets": {},
     "nuid": "e41f63d9-2df9-4ab2-a5d7-8f44225b6c12",
     "showTitle": false,
     "tableResultSettingsMap": {},
     "title": ""
    }
   },
   "source": [
    "# Required Functions"
   ]
  },
  {
   "cell_type": "code",
   "execution_count": 0,
   "metadata": {
    "application/vnd.databricks.v1+cell": {
     "cellMetadata": {
      "byteLimit": 2048000,
      "rowLimit": 10000
     },
     "inputWidgets": {},
     "nuid": "35995cc4-9ade-4a16-82db-78f82f5be3b4",
     "showTitle": true,
     "tableResultSettingsMap": {},
     "title": "1"
    }
   },
   "outputs": [],
   "source": [
    "\n",
    "def Make_list_of_topics(dic_taxonomy):\n",
    "    taxonomy_all_list = list(dic_taxonomy.keys())\n",
    "    taxonomy_all_leaves_list = [topic for topic in taxonomy_all_list if len(dic_taxonomy[topic]['children_labels']) == 0]\n",
    "    return(taxonomy_all_leaves_list)"
   ]
  },
  {
   "cell_type": "code",
   "execution_count": 0,
   "metadata": {
    "application/vnd.databricks.v1+cell": {
     "cellMetadata": {
      "byteLimit": 2048000,
      "rowLimit": 10000
     },
     "inputWidgets": {},
     "nuid": "cf7a700b-6e79-4ebf-ab66-99cd08952b6f",
     "showTitle": true,
     "tableResultSettingsMap": {},
     "title": "3"
    }
   },
   "outputs": [],
   "source": [
    "def calculate_articles_embeddings(df_in, model):\n",
    "    all_articels_content_list = []\n",
    "    for _,row in df_in.iterrows():\n",
    "        article_content = str(row['title']) + ' [SEP] ' + str(row['keywords']) \n",
    "        all_articels_content_list.append(article_content)\n",
    "\n",
    "    device = torch.device(\"cuda:0\" if torch.cuda.is_available() else \"cpu\")\n",
    "        # Create embeddings\n",
    "    embeddings_list = model.encode(\n",
    "        all_articels_content_list, convert_to_tensor=True\n",
    "    ).tolist()\n",
    "    df_articles_embeddings = pd.DataFrame(all_articels_content_list, columns=[\"article_content\"])\n",
    "    df_articles_embeddings[\"article_embedding\"] = embeddings_list\n",
    "    return(df_articles_embeddings)"
   ]
  },
  {
   "cell_type": "code",
   "execution_count": 0,
   "metadata": {
    "application/vnd.databricks.v1+cell": {
     "cellMetadata": {
      "byteLimit": 2048000,
      "rowLimit": 10000
     },
     "inputWidgets": {},
     "nuid": "136d9247-bcbb-4aad-8d1d-c63673a7d464",
     "showTitle": true,
     "tableResultSettingsMap": {},
     "title": "4"
    }
   },
   "outputs": [],
   "source": [
    "def calculate_similarity_matrixes (df_articles_embeddings ,df_labels_embeddings):\n",
    "    labels_embeddings_array = np.array(list(df_labels_embeddings[\"label_embedding\"]))\n",
    "    articles_embedding_array = np.array(list(df_articles_embeddings['article_embedding']))\n",
    "    similarity_matrix = np.dot(labels_embeddings_array , articles_embedding_array.T)\n",
    "    return(similarity_matrix)"
   ]
  },
  {
   "cell_type": "code",
   "execution_count": 0,
   "metadata": {
    "application/vnd.databricks.v1+cell": {
     "cellMetadata": {
      "byteLimit": 2048000,
      "rowLimit": 10000
     },
     "inputWidgets": {},
     "nuid": "4b4e7e54-874e-488c-b602-a2c1161282f4",
     "showTitle": false,
     "tableResultSettingsMap": {},
     "title": ""
    }
   },
   "outputs": [],
   "source": [
    "def retrieve_top_labels(dot_products,df_labels_embeddings, k): \n",
    "    try:\n",
    "        dot_product_scores = {idx: score for idx, score in enumerate(dot_products)}\n",
    "        sorted_scores = sorted(dot_product_scores.items(), key=lambda x: x[1], reverse=True)\n",
    "        sorted_indices = [idx for idx, _ in sorted_scores]\n",
    "        retrieved_topics = [df_labels_embeddings.iloc[i]['label'] for i in sorted_indices[0:k]]\n",
    "        return(retrieved_topics)\n",
    "    except Exception as e:\n",
    "        print(' FAILED (F_retriev_top_labels) : '+str(e))"
   ]
  },
  {
   "cell_type": "code",
   "execution_count": 0,
   "metadata": {
    "application/vnd.databricks.v1+cell": {
     "cellMetadata": {
      "byteLimit": 2048000,
      "rowLimit": 10000
     },
     "inputWidgets": {},
     "nuid": "f2c0cef7-c249-4699-a474-39371af6947d",
     "showTitle": true,
     "tableResultSettingsMap": {},
     "title": "5"
    }
   },
   "outputs": [],
   "source": [
    "def retrieve_topics_from_hits(df_in, taxonomy_all_topics_list, hits):\n",
    "    retrieved_topics_all = []\n",
    "    for idx_row, row in df_articles_embeddings.iterrows():\n",
    "        hits_this_row = hits[idx_row]\n",
    "        retrieved_topics = [taxonomy_all_topics_list[hit['corpus_id']] for hit in hits_this_row]\n",
    "        retrieved_topics_all.append(retrieved_topics)\n",
    "    return(retrieved_topics_all)# Amin"
   ]
  },
  {
   "cell_type": "markdown",
   "metadata": {
    "application/vnd.databricks.v1+cell": {
     "cellMetadata": {
      "byteLimit": 2048000,
      "rowLimit": 10000
     },
     "inputWidgets": {},
     "nuid": "32a6203b-a369-4aaf-8363-ab4d97534bfe",
     "showTitle": false,
     "tableResultSettingsMap": {},
     "title": ""
    }
   },
   "source": [
    "## load taxonomy"
   ]
  },
  {
   "cell_type": "code",
   "execution_count": 0,
   "metadata": {
    "application/vnd.databricks.v1+cell": {
     "cellMetadata": {
      "byteLimit": 2048000,
      "rowLimit": 10000
     },
     "inputWidgets": {},
     "nuid": "371120e9-f485-4cf9-bdcf-1cf843b193f9",
     "showTitle": false,
     "tableResultSettingsMap": {},
     "title": ""
    }
   },
   "outputs": [],
   "source": [
    "\n",
    "# Load Taxonomy\n",
    "taxonomy_all_topics_list_original = Make_list_of_topics(dic_taxonomy)\n",
    "\n",
    "k = len(taxonomy_all_topics_list)"
   ]
  },
  {
   "cell_type": "code",
   "execution_count": 0,
   "metadata": {
    "application/vnd.databricks.v1+cell": {
     "cellMetadata": {
      "byteLimit": 2048000,
      "rowLimit": 10000
     },
     "inputWidgets": {},
     "nuid": "70ccf2ef-030b-4fd7-9570-8fcae00bffb1",
     "showTitle": false,
     "tableResultSettingsMap": {},
     "title": ""
    }
   },
   "outputs": [],
   "source": [
    "embeddings_list = [dic_taxonomy[l]['embedding'] for l in taxonomy_all_topics_list]\n",
    "df_labels_embeddings = pd.DataFrame(taxonomy_all_topics_list, columns=[\"label\"])\n",
    "df_labels_embeddings[\"label_embedding\"] = embeddings_list"
   ]
  },
  {
   "cell_type": "markdown",
   "metadata": {
    "application/vnd.databricks.v1+cell": {
     "cellMetadata": {
      "byteLimit": 2048000,
      "rowLimit": 10000
     },
     "inputWidgets": {},
     "nuid": "84bf6c9c-65c1-40f4-8d50-89ad049fda1d",
     "showTitle": false,
     "tableResultSettingsMap": {},
     "title": ""
    }
   },
   "source": [
    "## Load input dataframe"
   ]
  },
  {
   "cell_type": "code",
   "execution_count": 0,
   "metadata": {
    "application/vnd.databricks.v1+cell": {
     "cellMetadata": {
      "byteLimit": 2048000,
      "rowLimit": 10000
     },
     "inputWidgets": {},
     "nuid": "73ad00a5-2597-4c42-97e8-70b0411625f5",
     "showTitle": false,
     "tableResultSettingsMap": {},
     "title": ""
    }
   },
   "outputs": [],
   "source": [
    "try:\n",
    "    df_sample = pd.read_pickle(path_results + '1_hierarchical_label_selection.pckl')\n",
    "    print(len(df_sample))\n",
    "    df_sample.head(2)\n",
    "except Exception as e:\n",
    "    print(\"Cluster could not read the file (1- wrong cluster 2- no new json file)\",e)\n",
    "    dbutils.notebook.exit(str(e))  \n"
   ]
  },
  {
   "cell_type": "code",
   "execution_count": 0,
   "metadata": {
    "application/vnd.databricks.v1+cell": {
     "cellMetadata": {
      "byteLimit": 2048000,
      "rowLimit": 10000
     },
     "inputWidgets": {},
     "nuid": "912be081-170d-4be9-a425-31764c3766a4",
     "showTitle": true,
     "tableResultSettingsMap": {},
     "title": "Just to test if there is any NonEnglish article"
    }
   },
   "outputs": [],
   "source": [
    "import re  \n",
    "  \n",
    "def remove_non_english_characters(input_string):  \n",
    "    english_string = re.sub(r'[^\\x00-\\x7F]+',' ', input_string)  \n",
    "    trimmed_string = re.sub(' +', ' ', english_string)  \n",
    "    return trimmed_string.strip() \n",
    "\n",
    "    \n",
    "for i_row,row in df_sample.iloc[:].iterrows():\n",
    "    abstract = row['abstract']\n",
    "    if len(abstract) - len( remove_non_english_characters(abstract)) > 100:\n",
    "        print(i_row , '\\t-',  len(abstract) ,len( remove_non_english_characters(abstract)) , len(abstract) -len( remove_non_english_characters(abstract)))"
   ]
  },
  {
   "cell_type": "code",
   "execution_count": 0,
   "metadata": {
    "application/vnd.databricks.v1+cell": {
     "cellMetadata": {
      "byteLimit": 2048000,
      "rowLimit": 10000
     },
     "inputWidgets": {},
     "nuid": "2d6d7af2-ed84-42e3-b3a4-7da49063b56b",
     "showTitle": true,
     "tableResultSettingsMap": {},
     "title": "Load Model"
    }
   },
   "outputs": [],
   "source": [
    "model_name = 'sentence-transformers/all-mpnet-base-v2'\n",
    "device = torch.device(\"cuda:0\" if torch.cuda.is_available() else \"cpu\")\n",
    "# Initialize model and tokenizer    \n",
    "# Use Sentence Transformers models\n",
    "model = SentenceTransformer(model_name, device=device)\n",
    "model.to(device)\n"
   ]
  },
  {
   "cell_type": "code",
   "execution_count": 0,
   "metadata": {
    "application/vnd.databricks.v1+cell": {
     "cellMetadata": {
      "byteLimit": 2048000,
      "rowLimit": 10000
     },
     "inputWidgets": {},
     "nuid": "b9600b4e-0789-42db-b2ff-dcf274f74bf3",
     "showTitle": false,
     "tableResultSettingsMap": {},
     "title": ""
    }
   },
   "outputs": [],
   "source": [
    "\n",
    "df_articles_embeddings = calculate_articles_embeddings(df_sample, model)\n",
    "\n",
    "hits =util.semantic_search(torch.tensor(df_articles_embeddings['article_embedding']),\n",
    "                            torch.tensor(df_labels_embeddings['label_embedding']),\n",
    "                            top_k=k)\n",
    "\n",
    "retrieved_list=   retrieve_topics_from_hits(df_sample, taxonomy_all_topics_list, hits)\n",
    "\n",
    "\n",
    "df_sample['labels_BiEncoder(just label)'] = retrieved_list"
   ]
  },
  {
   "cell_type": "markdown",
   "metadata": {
    "application/vnd.databricks.v1+cell": {
     "cellMetadata": {
      "byteLimit": 2048000,
      "rowLimit": 10000
     },
     "inputWidgets": {},
     "nuid": "0f0d955c-7ca4-44e7-93e6-6eec526f1284",
     "showTitle": false,
     "tableResultSettingsMap": {},
     "title": ""
    }
   },
   "source": [
    "# Store results"
   ]
  },
  {
   "cell_type": "code",
   "execution_count": 0,
   "metadata": {
    "application/vnd.databricks.v1+cell": {
     "cellMetadata": {
      "byteLimit": 2048000,
      "rowLimit": 10000
     },
     "inputWidgets": {},
     "nuid": "0f544a44-ada9-4687-90e7-5a60fd8369c1",
     "showTitle": false,
     "tableResultSettingsMap": {},
     "title": ""
    }
   },
   "outputs": [],
   "source": [
    "df_sample.to_pickle(path_results + '2_embedding_similarity_results_0.pckl')"
   ]
  }
 ],
 "metadata": {
  "application/vnd.databricks.v1+notebook": {
   "dashboards": [],
   "environmentMetadata": null,
   "language": "python",
   "notebookMetadata": {
    "pythonIndentUnit": 4
   },
   "notebookName": "02.0-Rank_(bi-encoder)(label)",
   "widgets": {}
  },
  "language_info": {
   "name": "python"
  }
 },
 "nbformat": 4,
 "nbformat_minor": 0
}
