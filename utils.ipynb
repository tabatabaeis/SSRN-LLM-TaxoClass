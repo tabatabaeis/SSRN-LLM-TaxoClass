{
 "cells": [
  {
   "cell_type": "code",
   "execution_count": 0,
   "metadata": {
    "application/vnd.databricks.v1+cell": {
     "cellMetadata": {
      "byteLimit": 2048000,
      "rowLimit": 10000
     },
     "inputWidgets": {},
     "nuid": "570286bd-2e1e-4f50-9bd5-003d287176fa",
     "showTitle": false,
     "tableResultSettingsMap": {},
     "title": ""
    }
   },
   "outputs": [],
   "source": [
    "!pip install  openai==1.18.0"
   ]
  },
  {
   "cell_type": "code",
   "execution_count": 0,
   "metadata": {
    "application/vnd.databricks.v1+cell": {
     "cellMetadata": {
      "byteLimit": 2048000,
      "rowLimit": 10000
     },
     "inputWidgets": {},
     "nuid": "289d9308-5061-4595-957e-79aaded5e13d",
     "showTitle": false,
     "tableResultSettingsMap": {},
     "title": ""
    }
   },
   "outputs": [],
   "source": [
    "dbutils.library.restartPython()"
   ]
  },
  {
   "cell_type": "code",
   "execution_count": 0,
   "metadata": {
    "application/vnd.databricks.v1+cell": {
     "cellMetadata": {
      "byteLimit": 2048000,
      "rowLimit": 10000
     },
     "inputWidgets": {},
     "nuid": "0222e5b2-6d22-4c92-afed-ceb5d06d536b",
     "showTitle": false,
     "tableResultSettingsMap": {},
     "title": ""
    }
   },
   "outputs": [],
   "source": [
    "import openai\n",
    "from openai import AzureOpenAI\n",
    "from tenacity import retry, wait_random  , stop_after_attempt\n",
    "import json"
   ]
  },
  {
   "cell_type": "markdown",
   "metadata": {
    "application/vnd.databricks.v1+cell": {
     "cellMetadata": {
      "byteLimit": 2048000,
      "rowLimit": 10000
     },
     "inputWidgets": {},
     "nuid": "1d479030-7ddd-4eee-b41d-8032ab3ac4fd",
     "showTitle": false,
     "tableResultSettingsMap": {},
     "title": ""
    }
   },
   "source": [
    "# general  Function to call OPENAI models\n"
   ]
  },
  {
   "cell_type": "code",
   "execution_count": 0,
   "metadata": {
    "application/vnd.databricks.v1+cell": {
     "cellMetadata": {
      "byteLimit": 2048000,
      "rowLimit": 10000
     },
     "inputWidgets": {},
     "nuid": "be2da37b-7c32-4e5d-83a2-78ed2f81aa1b",
     "showTitle": false,
     "tableResultSettingsMap": {},
     "title": ""
    }
   },
   "outputs": [],
   "source": [
    "\n",
    "\n",
    "client = AzureOpenAI(\n",
    "  azure_endpoint = \"https://your-resource.openai.azure.com/\", \n",
    "  api_key=  \"your-api-key\",  \n",
    "  api_version=\"2024-02-15-preview\"\n",
    ")\n",
    "modelGPT = \"your-deployment-name\"\n",
    "\n",
    "@retry(wait=wait_random(min=1, max=90), stop=stop_after_attempt(5)) \n",
    "def generate_openai_response(modelGPT , message_user, message_system, json_format,max_tokens, temperature = 0.0):\n",
    "    response_format={\"type\":\"json_object\"}\n",
    "    \n",
    "    message_text = [{\"role\":\"system\",\"content\":message_system},\n",
    "                    {\"role\":\"user\",\"content\":message_user},]\n",
    "\n",
    "    completion = client.chat.completions.create(\n",
    "    model = modelGPT,\n",
    "    messages = message_text,\n",
    "    temperature=temperature,\n",
    "    max_tokens=max_tokens,\n",
    "    top_p=0.95,\n",
    "    frequency_penalty=0,\n",
    "    presence_penalty=0,\n",
    "    stop=None,\n",
    "    functions = json_format,\n",
    "    function_call = {\n",
    "        \"name\": json_format[0][\"name\"]\n",
    "    }\n",
    "    )      \n",
    "\n",
    "    response_str = completion.choices[0].message.function_call.arguments\n",
    "    response_dic = json.loads(response_str)\n",
    "    return(response_dic)\n"
   ]
  }
 ],
 "metadata": {
  "application/vnd.databricks.v1+notebook": {
   "dashboards": [],
   "environmentMetadata": null,
   "language": "python",
   "notebookMetadata": {
    "pythonIndentUnit": 4
   },
   "notebookName": "utility-SSRN-Paper",
   "widgets": {}
  },
  "language_info": {
   "name": "python"
  }
 },
 "nbformat": 4,
 "nbformat_minor": 0
}
