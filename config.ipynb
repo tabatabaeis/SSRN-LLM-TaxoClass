{
 "cells": [
  {
   "cell_type": "code",
   "execution_count": 0,
   "metadata": {
    "application/vnd.databricks.v1+cell": {
     "cellMetadata": {
      "byteLimit": 2048000,
      "rowLimit": 10000
     },
     "inputWidgets": {},
     "nuid": "7a4e5314-521b-4df0-8501-22248bf2a7e2",
     "showTitle": false,
     "tableResultSettingsMap": {},
     "title": ""
    }
   },
   "outputs": [],
   "source": [
    "import json"
   ]
  },
  {
   "cell_type": "markdown",
   "metadata": {
    "application/vnd.databricks.v1+cell": {
     "cellMetadata": {
      "byteLimit": 2048000,
      "rowLimit": 10000
     },
     "inputWidgets": {},
     "nuid": "07f38adf-8d5f-4345-8a57-ef42bd4d37bb",
     "showTitle": false,
     "tableResultSettingsMap": {},
     "title": ""
    }
   },
   "source": [
    "### Define configuration classes to manage all modules configuration"
   ]
  },
  {
   "cell_type": "code",
   "execution_count": 0,
   "metadata": {
    "application/vnd.databricks.v1+cell": {
     "cellMetadata": {
      "byteLimit": 2048000,
      "rowLimit": 10000
     },
     "inputWidgets": {},
     "nuid": "246fcd6c-82ff-487f-84fb-436725c6234a",
     "showTitle": false,
     "tableResultSettingsMap": {},
     "title": ""
    }
   },
   "outputs": [],
   "source": [
    "from dataclasses import dataclass, field\n",
    "from datetime import datetime, timedelta\n"
   ]
  },
  {
   "cell_type": "code",
   "execution_count": 0,
   "metadata": {
    "application/vnd.databricks.v1+cell": {
     "cellMetadata": {
      "byteLimit": 2048000,
      "rowLimit": 10000
     },
     "inputWidgets": {},
     "nuid": "d9e3d886-1e9f-482f-b40c-cab52263e019",
     "showTitle": false,
     "tableResultSettingsMap": {},
     "title": ""
    }
   },
   "outputs": [],
   "source": [
    "@dataclass(frozen=True)\n",
    "class AppConfig:\n",
    "  APP: str = \"SSRN API\"\n",
    "  VERSION_code: str = \"1.0\"\n",
    "  VERSION_taxonomy: str= \"1.0\""
   ]
  },
  {
   "cell_type": "code",
   "execution_count": 0,
   "metadata": {
    "application/vnd.databricks.v1+cell": {
     "cellMetadata": {
      "byteLimit": 2048000,
      "rowLimit": 10000
     },
     "inputWidgets": {},
     "nuid": "d9042678-595f-496d-bfda-999aa1624e28",
     "showTitle": false,
     "tableResultSettingsMap": {},
     "title": ""
    }
   },
   "outputs": [],
   "source": [
    "@dataclass(frozen=True)\n",
    "class DataBricksDevConfig(AppConfig):\n",
    "\n",
    "  @dataclass(frozen=True)\n",
    "  class Data():\n",
    "    \"\"\"\n",
    "    config for database and table names\n",
    "    \"\"\"\n",
    "\n",
    "    folder_name = 'DataSet'\n",
    "    print('folder_name:',folder_name)\n",
    "\n",
    "    path_environment = f'/path/to/your/project'\n",
    "    path_jsons_in = f'{path_environment}/{folder_name}/'\n",
    "    path_results =f'{path_environment}/results/'\n",
    "    path_taxonomy = f'{path_environment}taxonomy_v{AppConfig.VERSION_taxonomy}/'\n",
    "  \n",
    "  \n",
    "  @dataclass(frozen=True)\n",
    "  class taxonomy_info():  \n",
    "    dic_abbreviation2full = {\n",
    "    'FinPlanRN': 'Financial Planning Research Network',\n",
    "    'SIRN': 'Social Insurance Research Network',\n",
    "    'DecisionSciRN': 'Decision Science Research Network',\n",
    "    'WGSRN': 'Womens & Gender Studies Research Network',\n",
    "    'InfoSciRN': 'Information & Library Science Research Network',\n",
    "    'LSN': 'Legal Scholarship Network',\n",
    "    'ERN': 'Economics Research Network',\n",
    "    'PsychRN': 'Psychology Research Network',\n",
    "    'CGN': 'Corporate Governance Network',\n",
    "    'ERPN': 'Entrepreneurship Research & Policy Network',\n",
    "    'PSN': 'Political Science Network',\n",
    "    'CompSciRN': 'Computer Science Research Network',\n",
    "    'CommRN': 'Communication Studies Research Network',\n",
    "    'SociologyRN': 'Sociology Research Network',\n",
    "    'FEN': 'Financial Economics Network',\n",
    "    'AARN': 'Anthropology & Archaeology Research Network',\n",
    "    'GeographyRN': 'Geography Research Network',\n",
    "    'HEN': 'Health Economics Network',\n",
    "    'EduRN': 'Education Research Network',\n",
    "    'SRPN': 'Sustainability Research & Policy Network',\n",
    "    'RWRN': 'Rhetoric & Writing Research Network',\n",
    "    'CJRN': 'Criminal Justice Research Network',\n",
    "    'INTL': 'International Business & Management',\n",
    "    'EngRN': 'Engineering Research Network',\n",
    "    'ArtsRN': 'Visual, Performing & Fine Arts Research Network',\n",
    "    'FEN': 'Financial Economics Network',\n",
    "    'MathRN': 'Mathematics Research Network',\n",
    "    'PRN': 'Philosophy Research Network',\n",
    "    'TransportRN': 'Transportation Research Network',\n",
    "    'ARN': 'Accounting Research Network',\n",
    "    'PSN': 'Political Science Network',\n",
    "    'ArchRN': 'Architecture Research Network',\n",
    "    'ERPN': 'Entrepreneurship Research & Policy Network',\n",
    "    'FinPlanRN': 'Financial Planning Research Network',\n",
    "    'GeologyRN': 'Geology Research Network',\n",
    "    'EduRN': 'Education Research Network',\n",
    "    'LRN': 'Leadership Research Network',\n",
    "    'CGN': 'Corporate Governance Network',\n",
    "    'BiochemRN': 'Biochemistry Research Network',\n",
    "    'AgriSciRN': 'Agricultural Science Research Network',\n",
    "    'NeurosciRN': 'Neuroscience Research Network',\n",
    "    'RWRN': 'Rhetoric & Writing Research Network',\n",
    "    'CommRN': 'Communication Studies Research Network',\n",
    "    'OPER': 'Operations Research Network',\n",
    "    'EcoRN': 'Ecology Research Network',\n",
    "    'BioRN': 'Biology Research Network',\n",
    "    'VetSciRN': 'Veterinary Science Research Network',\n",
    "    'EnergyRN': 'Energy Research Network',\n",
    "    'DecisionSciRN': 'Decision Science Research Network',\n",
    "    'ForensicSciRN': 'Forensic Science Research Network',\n",
    "    'SociologyRN': 'Sociology Research Network',\n",
    "    'MatSciRN': 'Materials Science Research Network',\n",
    "    'LingRN': 'Linguistics Research Network',\n",
    "    'CSN': 'Cognitive Science Network',\n",
    "    'ChemRN': 'Chemistry Research Network',\n",
    "    'GeographyRN': 'Geography Research Network',\n",
    "    'HEN': 'Health Economics Network',\n",
    "    'FoodSciRN': 'Food Science Research Network',\n",
    "    'PublicHealthRN': 'Public Health Research Network',\n",
    "    'EarthSciRN': 'Earth Science Research Network',\n",
    "    'CRN': 'Classics Research Network',\n",
    "    'PlanetSciRN': 'Space & Planetary Science Research Network',\n",
    "    'NursingRN': 'Nursing Research Network',\n",
    "    'PharmSciRN': 'Pharmaceutical Science Research Network',\n",
    "    'EnvironSciRN': 'Environmental Science Research Network',\n",
    "    'InfoSciRN': 'Information & Library Science Research Network',\n",
    "    'MRN': 'Management Research Network',\n",
    "    'BHNP': 'Business History & Nonprofit Organizations Research Network',\n",
    "    'IRPN': 'Innovation Research & Policy Network',\n",
    "    'DentistryRN': 'Dentistry Research Network',\n",
    "    'SIRN': 'Social Insurance Research Network',\n",
    "    'PsychRN': 'Psychology Research Network',\n",
    "    'CompSciRN': 'Computer Science Research Network',\n",
    "    'ERN': 'Economics Research Network',\n",
    "    'ISN': 'Information Systems & eBusiness Network',\n",
    "    'ERN': 'Economics Research Network',\n",
    "    'PSN Educator': 'Political Science Network Educator',\n",
    "#\n",
    "#\n",
    "#   \n",
    "    'ORG' : 'Organizational Behavior',\n",
    "    'POL':'Organizational Behavior',\n",
    "    'MKTG':'Marketing',\n",
    "    'PROD': 'Production & Operations Management',\n",
    "    'IO': 'Industrial Organization & Regulation',\n",
    "    'MRN': 'Management Research Network',\n",
    "    'PSN': 'Political Science Network ',\n",
    "    'ERN': 'Economics Research Network',\n",
    "    'FEN': 'Financial Economics Network',\n",
    "    'ITLN': 'International Business & Management Network'\n",
    "}\n"
   ]
  }
 ],
 "metadata": {
  "application/vnd.databricks.v1+notebook": {
   "dashboards": [],
   "environmentMetadata": null,
   "language": "python",
   "notebookMetadata": {
    "pythonIndentUnit": 4
   },
   "notebookName": "config-SSRN-Paper",
   "widgets": {
    "job_parameters": {
     "currentValue": "{\"folder_name\":\"default\",\"environment_type\":\"nonprod\"}",
     "nuid": "bfe26da7-6b3e-4e19-8dc8-add8edceb8c9",
     "typedWidgetInfo": null,
     "widgetInfo": {
      "defaultValue": "{\"folder_name\":\"2024-05-04\",\"environment_type\":\"prod\"}",
      "label": null,
      "name": "job_parameters",
      "options": {
       "autoCreated": null,
       "validationRegex": null,
       "widgetType": "text"
      },
      "widgetType": "text"
     }
    }
   }
  },
  "language_info": {
   "name": "python"
  }
 },
 "nbformat": 4,
 "nbformat_minor": 0
}
